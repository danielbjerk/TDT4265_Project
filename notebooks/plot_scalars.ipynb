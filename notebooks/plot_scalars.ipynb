{
 "cells": [
  {
   "cell_type": "code",
   "execution_count": 7,
   "metadata": {},
   "outputs": [],
   "source": [
    "import sys, os\n",
    "sys.path.append(os.path.dirname(os.getcwd())) # Include ../SSD in path\n",
    "import tops\n",
    "import matplotlib.pyplot as plt\n",
    "import pathlib\n",
    "from ssd.utils import load_config"
   ]
  },
  {
   "cell_type": "code",
   "execution_count": 8,
   "metadata": {},
   "outputs": [
    {
     "name": "stdout",
     "output_type": "stream",
     "text": [
      "Saving SSD outputs to: outputs/\n"
     ]
    }
   ],
   "source": [
    "cfg = load_config(\"../configs/task_2_3.py\")\n",
    "logs = tops.logger.read_logs(pathlib.Path(\"../outputs/task_2_3\"))"
   ]
  },
  {
   "cell_type": "code",
   "execution_count": 9,
   "metadata": {},
   "outputs": [
    {
     "name": "stdout",
     "output_type": "stream",
     "text": [
      "[{'amp/grad_scale': 32768.0, 'global_step': 0}, {'loss/regression_loss': nan, 'loss/classification_loss': nan, 'loss/total_loss': nan, 'global_step': 0}, {'amp/grad_scale': 16384.0, 'global_step': 1}, {'amp/grad_scale': 8192.0, 'global_step': 2}, {'amp/grad_scale': 4096.0, 'global_step': 3}, {'amp/grad_scale': 2048.0, 'global_step': 4}, {'amp/grad_scale': 1024.0, 'global_step': 5}, {'amp/grad_scale': 512.0, 'global_step': 6}, {'amp/grad_scale': 256.0, 'global_step': 7}, {'amp/grad_scale': 128.0, 'global_step': 8}]\n"
     ]
    }
   ],
   "source": [
    "# The log is formatted as a list of dictionaries\n",
    "print(logs[:10])"
   ]
  },
  {
   "cell_type": "code",
   "execution_count": 10,
   "metadata": {},
   "outputs": [],
   "source": [
    "# We are saving logs to disk every 10th iteration, thus we need to filter out all entries without a loss\n",
    "loss_entries = [entry for entry in logs if \"loss/regression_loss\" in entry]"
   ]
  },
  {
   "cell_type": "code",
   "execution_count": 11,
   "metadata": {},
   "outputs": [
    {
     "data": {
      "text/plain": [
       "Text(0.5, 0, 'Globalt steg (antall parti trent på)')"
      ]
     },
     "execution_count": 11,
     "metadata": {},
     "output_type": "execute_result"
    },
    {
     "data": {
      "image/png": "[encoded data removed]",
      "text/plain": [
       "<Figure size 432x288 with 1 Axes>"
      ]
     },
     "metadata": {
      "needs_background": "light"
     },
     "output_type": "display_data"
    }
   ],
   "source": [
    "plt.plot([entry[\"global_step\"] for entry in loss_entries], [entry[\"loss/regression_loss\"] for entry in loss_entries])\n",
    "plt.ylabel(\"Regressjonstap\")\n",
    "plt.xlabel(\"Globalt steg (antall parti trent på)\")"
   ]
  }
 ],
 "metadata": {
  "kernelspec": {
   "display_name": "Python 3 (ipykernel)",
   "language": "python",
   "name": "python3"
  },
  "language_info": {
   "codemirror_mode": {
    "name": "ipython",
    "version": 3
   },
   "file_extension": ".py",
   "mimetype": "text/x-python",
   "name": "python",
   "nbconvert_exporter": "python",
   "pygments_lexer": "ipython3",
   "version": "3.8.10"
  }
 },
 "nbformat": 4,
 "nbformat_minor": 4
}
